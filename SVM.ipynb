{
 "cells": [
  {
   "cell_type": "code",
   "execution_count": 28,
   "metadata": {},
   "outputs": [],
   "source": [
    "# import required libraries\n",
    "import numpy as np\n",
    "import pandas as pd\n",
    "import matplotlib\n",
    "import matplotlib.pyplot as plt\n",
    "%matplotlib inline\n",
    "from sklearn.model_selection import train_test_split\n",
    "from sklearn import metrics, svm\n",
    "from sklearn.preprocessing import StandardScaler, MinMaxScaler"
   ]
  },
  {
   "attachments": {},
   "cell_type": "markdown",
   "metadata": {},
   "source": [
    "# Uploading Data"
   ]
  },
  {
   "cell_type": "code",
   "execution_count": 29,
   "metadata": {},
   "outputs": [],
   "source": [
    "sheep = np.load(r\"data\\full_numpy_bitmap_sheep.npy\")\n",
    "# print(sheep.shape)\n",
    "giraffe = np.load(r\"data\\full_numpy_bitmap_giraffe.npy\")\n",
    "# print(giraffe.shape)\n",
    "\n",
    "sheep = sheep[:5000]\n",
    "giraffe = giraffe[:5000]"
   ]
  },
  {
   "attachments": {},
   "cell_type": "markdown",
   "metadata": {},
   "source": [
    "Combining Data Sets and Splitting into Training, Validation, Testing Sets"
   ]
  },
  {
   "cell_type": "code",
   "execution_count": 30,
   "metadata": {},
   "outputs": [],
   "source": [
    "def combine_data(*args):\n",
    "    X = np.zeros((0,784))\n",
    "    Y = np.zeros((0,1))\n",
    "    for i in range(len(args)):\n",
    "        X = np.concatenate((X, args[i]))\n",
    "        Y = np.concatenate((Y, np.ones((args[i].shape[0],1))*i))\n",
    "    Y = Y.reshape(Y.shape[0])\n",
    "    return X, Y\n",
    "\n",
    "def split_data(X, Y, split=(0.8,0.1,0.1)):\n",
    "    # defaulting to an 80/10/10 train/test/val split\n",
    "    train, test, val = split\n",
    "    X_train, X_testval, Y_train, Y_testval = train_test_split(X, Y, test_size=test+val, random_state=42, shuffle=True)\n",
    "    X_test, X_val, Y_test, Y_val = train_test_split(X_testval, Y_testval, test_size=val/(test+val), random_state=42, shuffle=True)\n",
    "    return X_train, X_test, X_val, Y_train, Y_test, Y_val\n",
    "\n",
    "X, Y = combine_data(sheep, giraffe)\n",
    "X_train, X_test, X_val, Y_train, Y_test, Y_val = split_data(X, Y)"
   ]
  },
  {
   "attachments": {},
   "cell_type": "markdown",
   "metadata": {},
   "source": [
    "SVM classifier function"
   ]
  },
  {
   "cell_type": "code",
   "execution_count": 31,
   "metadata": {},
   "outputs": [],
   "source": [
    "def create_classifier(X_train, Y_train, kernel=\"linear\", degree=1, C=1.0): # default values\n",
    "    classifier = svm.SVC(kernel=kernel, degree=degree, C=C)\n",
    "    classifier.fit(X_train, Y_train)\n",
    "    return classifier"
   ]
  },
  {
   "attachments": {},
   "cell_type": "markdown",
   "metadata": {},
   "source": [
    "Accuracy"
   ]
  },
  {
   "cell_type": "code",
   "execution_count": 32,
   "metadata": {},
   "outputs": [],
   "source": [
    "def accuracy(classifier, X_val, Y_val):\n",
    "    return classifier.score(X_val, Y_val)\n",
    "\n",
    "# def plot_confusion_matrix(classifier, X_val, Y_val):"
   ]
  },
  {
   "attachments": {},
   "cell_type": "markdown",
   "metadata": {},
   "source": [
    "Test for best normalization using default values"
   ]
  },
  {
   "cell_type": "code",
   "execution_count": 33,
   "metadata": {},
   "outputs": [
    {
     "name": "stdout",
     "output_type": "stream",
     "text": [
      "      Normalization  Accuracy\n",
      "0              None     0.927\n",
      "1  StandardScaler()     0.942\n",
      "2    MinMaxScaler()     0.967\n"
     ]
    }
   ],
   "source": [
    "# normalizations\n",
    "normalizations = [None, StandardScaler(), MinMaxScaler()]\n",
    "\n",
    "def test_norm(X_train, Y_train, X_val, Y_val, normalizations):\n",
    "    data = {\"Normalization\": [], \"Accuracy\": []}\n",
    "    for norm in normalizations:\n",
    "        if norm is not None:\n",
    "            scaler = norm\n",
    "            X_train_norm = scaler.fit_transform(X_train)\n",
    "            X_val_norm = scaler.transform(X_val)\n",
    "        else:\n",
    "            X_train_norm = X_train\n",
    "            X_val_norm = X_val\n",
    "        classifier = create_classifier(X_train_norm, Y_train)\n",
    "        acc = accuracy(classifier, X_val_norm, Y_val)\n",
    "        data[\"Normalization\"].append(norm)\n",
    "        data[\"Accuracy\"].append(acc)\n",
    "    return pd.DataFrame(data)\n",
    "\n",
    "df = test_norm(X_train, Y_train, X_val, Y_val, normalizations)\n",
    "print(df)"
   ]
  },
  {
   "attachments": {},
   "cell_type": "markdown",
   "metadata": {},
   "source": [
    "Test Different Kernels and Degrees\n",
    "Using Our Best Normalization Algorithm (Normalization=StandardScaler?? looks like there is no difference)"
   ]
  },
  {
   "cell_type": "code",
   "execution_count": 34,
   "metadata": {},
   "outputs": [],
   "source": [
    "def test_kern_deg_reg(kernels, degrees, C_vals):\n",
    "    scaler = StandardScaler()\n",
    "    X_train_scaled = scaler.fit_transform(X_train)\n",
    "    X_val_scaled = scaler.transform(X_val)\n",
    "    data = {\"Kernel\": [], \"Degree\": [], \"C\": [], \"Accuracy\": []}\n",
    "    for kernel in kernels:\n",
    "        for degree in degrees:\n",
    "            for C in C_vals:\n",
    "                classifier = create_classifier(X_train_scaled, Y_train, kernel=kernel, degree=degree, C=C)\n",
    "                acc = accuracy(classifier, X_val_scaled, Y_val)\n",
    "                data[\"C\"].append(C)\n",
    "                data[\"Kernel\"].append(kernel)\n",
    "                data[\"Degree\"].append(degree)\n",
    "                data[\"Accuracy\"].append(acc)\n",
    "    df = pd.DataFrame(data)\n",
    "    return df\n",
    "\n",
    "C_vals = [0.01, 0.1, 1, 10]\n",
    "kernels = [\"linear\", \"poly\", \"rbf\"]\n",
    "degrees = [1, 2, 3, 4, 5]\n",
    "df = test_kern_deg_reg(kernels, degrees, C_vals)\n",
    "print(df)"
   ]
  },
  {
   "cell_type": "code",
   "execution_count": null,
   "metadata": {},
   "outputs": [
    {
     "name": "stdout",
     "output_type": "stream",
     "text": [
      "    Kernel  Degree      C  Accuracy\n",
      "0   linear       1   0.01     0.965\n",
      "1   linear       1   0.10     0.960\n",
      "2   linear       1   1.00     0.960\n",
      "3   linear       1  10.00     0.960\n",
      "4   linear       2   0.01     0.965\n",
      "5   linear       2   0.10     0.960\n",
      "6   linear       2   1.00     0.960\n",
      "7   linear       2  10.00     0.960\n",
      "8   linear       3   0.01     0.965\n",
      "9   linear       3   0.10     0.960\n",
      "10  linear       3   1.00     0.960\n",
      "11  linear       3  10.00     0.960\n",
      "12  linear       4   0.01     0.965\n",
      "13  linear       4   0.10     0.960\n",
      "14  linear       4   1.00     0.960\n",
      "15  linear       4  10.00     0.960\n",
      "16  linear       5   0.01     0.965\n",
      "17  linear       5   0.10     0.960\n",
      "18  linear       5   1.00     0.960\n",
      "19  linear       5  10.00     0.960\n",
      "20    poly       1   0.01     0.955\n",
      "21    poly       1   0.10     0.960\n",
      "22    poly       1   1.00     0.960\n",
      "23    poly       1  10.00     0.955\n",
      "24    poly       2   0.01     0.950\n",
      "25    poly       2   0.10     0.960\n",
      "26    poly       2   1.00     0.970\n",
      "27    poly       2  10.00     0.985\n",
      "28    poly       3   0.01     0.920\n",
      "29    poly       3   0.10     0.960\n",
      "30    poly       3   1.00     0.965\n",
      "31    poly       3  10.00     0.975\n",
      "32    poly       4   0.01     0.725\n",
      "33    poly       4   0.10     0.960\n",
      "34    poly       4   1.00     0.970\n",
      "35    poly       4  10.00     0.975\n",
      "36    poly       5   0.01     0.625\n",
      "37    poly       5   0.10     0.955\n",
      "38    poly       5   1.00     0.965\n",
      "39    poly       5  10.00     0.965\n",
      "40     rbf       1   0.01     0.925\n",
      "41     rbf       1   0.10     0.970\n",
      "42     rbf       1   1.00     0.970\n",
      "43     rbf       1  10.00     0.970\n",
      "44     rbf       2   0.01     0.925\n",
      "45     rbf       2   0.10     0.970\n",
      "46     rbf       2   1.00     0.970\n",
      "47     rbf       2  10.00     0.970\n",
      "48     rbf       3   0.01     0.925\n",
      "49     rbf       3   0.10     0.970\n",
      "50     rbf       3   1.00     0.970\n",
      "51     rbf       3  10.00     0.970\n",
      "52     rbf       4   0.01     0.925\n",
      "53     rbf       4   0.10     0.970\n",
      "54     rbf       4   1.00     0.970\n",
      "55     rbf       4  10.00     0.970\n",
      "56     rbf       5   0.01     0.925\n",
      "57     rbf       5   0.10     0.970\n",
      "58     rbf       5   1.00     0.970\n",
      "59     rbf       5  10.00     0.970\n"
     ]
    }
   ],
   "source": [
    "# def test_kern_deg_reg_mm(kernels, degrees, C_vals):\n",
    "#     scaler = MinMaxScaler()\n",
    "#     X_train_scaled = scaler.fit_transform(X_train)\n",
    "#     X_val_scaled = scaler.transform(X_val)\n",
    "#     data = {\"Kernel\": [], \"Degree\": [], \"C\": [], \"Accuracy\": []}\n",
    "#     for kernel in kernels:\n",
    "#         for degree in degrees:\n",
    "#             for C in C_vals:\n",
    "#                 classifier = create_classifier(X_train_scaled, Y_train, kernel=kernel, degree=degree, C=C)\n",
    "#                 acc = accuracy(classifier, X_val_scaled, Y_val)\n",
    "#                 data[\"C\"].append(C)\n",
    "#                 data[\"Kernel\"].append(kernel)\n",
    "#                 data[\"Degree\"].append(degree)\n",
    "#                 data[\"Accuracy\"].append(acc)\n",
    "#     df = pd.DataFrame(data)\n",
    "#     return df\n",
    "\n",
    "# C_vals = [0.01, 0.1, 1, 10]\n",
    "# kernels = [\"linear\", \"poly\", \"rbf\"]\n",
    "# degrees = [1, 2, 3, 4, 5]\n",
    "# df = test_kern_deg_reg_mm(kernels, degrees, C_vals)\n",
    "# print(df)"
   ]
  },
  {
   "cell_type": "code",
   "execution_count": null,
   "metadata": {},
   "outputs": [
    {
     "name": "stdout",
     "output_type": "stream",
     "text": [
      "    Kernel  Degree      C  Accuracy\n",
      "0   linear       1   0.01     0.960\n",
      "1   linear       1   0.10     0.960\n",
      "2   linear       1   1.00     0.960\n",
      "3   linear       1  10.00     0.960\n",
      "4   linear       2   0.01     0.960\n",
      "5   linear       2   0.10     0.960\n",
      "6   linear       2   1.00     0.960\n",
      "7   linear       2  10.00     0.960\n",
      "8   linear       3   0.01     0.960\n",
      "9   linear       3   0.10     0.960\n",
      "10  linear       3   1.00     0.960\n",
      "11  linear       3  10.00     0.960\n",
      "12  linear       4   0.01     0.960\n",
      "13  linear       4   0.10     0.960\n",
      "14  linear       4   1.00     0.960\n",
      "15  linear       4  10.00     0.960\n",
      "16  linear       5   0.01     0.960\n",
      "17  linear       5   0.10     0.960\n",
      "18  linear       5   1.00     0.960\n",
      "19  linear       5  10.00     0.960\n",
      "20    poly       1   0.01     0.955\n",
      "21    poly       1   0.10     0.960\n",
      "22    poly       1   1.00     0.960\n",
      "23    poly       1  10.00     0.955\n",
      "24    poly       2   0.01     0.945\n",
      "25    poly       2   0.10     0.960\n",
      "26    poly       2   1.00     0.965\n",
      "27    poly       2  10.00     0.980\n",
      "28    poly       3   0.01     0.920\n",
      "29    poly       3   0.10     0.960\n",
      "30    poly       3   1.00     0.965\n",
      "31    poly       3  10.00     0.970\n",
      "32    poly       4   0.01     0.725\n",
      "33    poly       4   0.10     0.960\n",
      "34    poly       4   1.00     0.970\n",
      "35    poly       4  10.00     0.970\n",
      "36    poly       5   0.01     0.625\n",
      "37    poly       5   0.10     0.955\n",
      "38    poly       5   1.00     0.960\n",
      "39    poly       5  10.00     0.960\n",
      "40     rbf       1   0.01     0.935\n",
      "41     rbf       1   0.10     0.970\n",
      "42     rbf       1   1.00     0.970\n",
      "43     rbf       1  10.00     0.965\n",
      "44     rbf       2   0.01     0.935\n",
      "45     rbf       2   0.10     0.970\n",
      "46     rbf       2   1.00     0.970\n",
      "47     rbf       2  10.00     0.965\n",
      "48     rbf       3   0.01     0.935\n",
      "49     rbf       3   0.10     0.970\n",
      "50     rbf       3   1.00     0.970\n",
      "51     rbf       3  10.00     0.965\n",
      "52     rbf       4   0.01     0.935\n",
      "53     rbf       4   0.10     0.970\n",
      "54     rbf       4   1.00     0.970\n",
      "55     rbf       4  10.00     0.965\n",
      "56     rbf       5   0.01     0.935\n",
      "57     rbf       5   0.10     0.970\n",
      "58     rbf       5   1.00     0.970\n",
      "59     rbf       5  10.00     0.965\n"
     ]
    }
   ],
   "source": [
    "# def test_kern_deg_reg_none(kernels, degrees, C_vals):\n",
    "#     data = {\"Kernel\": [], \"Degree\": [], \"C\": [], \"Accuracy\": []}\n",
    "#     for kernel in kernels:\n",
    "#         for degree in degrees:\n",
    "#             for C in C_vals:\n",
    "#                 classifier = create_classifier(X_train, Y_train, kernel=kernel, degree=degree, C=C)\n",
    "#                 acc = accuracy(classifier, X_val, Y_val)\n",
    "#                 data[\"C\"].append(C)\n",
    "#                 data[\"Kernel\"].append(kernel)\n",
    "#                 data[\"Degree\"].append(degree)\n",
    "#                 data[\"Accuracy\"].append(acc)\n",
    "#     df = pd.DataFrame(data)\n",
    "#     return df\n",
    "\n",
    "# C_vals = [0.01, 0.1, 1, 10]\n",
    "# kernels = [\"linear\", \"poly\", \"rbf\"]\n",
    "# degrees = [1, 2, 3, 4, 5]\n",
    "# df = test_kern_deg_reg_none(kernels, degrees, C_vals)\n",
    "# print(df)"
   ]
  }
 ],
 "metadata": {
  "kernelspec": {
   "display_name": "venv",
   "language": "python",
   "name": "python3"
  },
  "language_info": {
   "codemirror_mode": {
    "name": "ipython",
    "version": 3
   },
   "file_extension": ".py",
   "mimetype": "text/x-python",
   "name": "python",
   "nbconvert_exporter": "python",
   "pygments_lexer": "ipython3",
   "version": "3.11.2"
  },
  "orig_nbformat": 4
 },
 "nbformat": 4,
 "nbformat_minor": 2
}
