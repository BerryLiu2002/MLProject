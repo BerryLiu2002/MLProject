{
 "cells": [
  {
   "cell_type": "code",
   "execution_count": 24,
   "metadata": {},
   "outputs": [],
   "source": [
    "import numpy as np\n",
    "import matplotlib\n",
    "import matplotlib.pyplot as plt\n",
    "from sklearn.model_selection import train_test_split\n",
    "from sklearn.preprocessing import PolynomialFeatures\n",
    "%matplotlib inline\n",
    "\n",
    "sheep = np.load(r\"data\\full_numpy_bitmap_sheep.npy\")\n",
    "# print(sheep.shape)\n",
    "giraffe = np.load(r\"data\\full_numpy_bitmap_giraffe.npy\")\n",
    "# print(giraffe.shape)\n",
    "\n",
    "\n",
    "# Print the first 4 images in each data set.\n",
    "# for i in range(4):  \n",
    "#   plt.imshow(sheep[i].reshape((28,28)), cmap=plt.get_cmap('gray'))\n",
    "#   plt.show()\n",
    "\n",
    "# for i in range(4):\n",
    "#   plt.imshow(giraffe[i].reshape((28,28)), cmap=plt.get_cmap('gray'))\n",
    "#   plt.show()"
   ]
  },
  {
   "cell_type": "code",
   "execution_count": 30,
   "metadata": {},
   "outputs": [],
   "source": [
    "def combine_data_sets(*args):\n",
    "  X = np.zeros((0,784))\n",
    "  Y = np.zeros((0,1))\n",
    "  for i in range(len(args)):\n",
    "    X = np.concatenate((X, args[i]))\n",
    "    Y = np.concatenate((Y, np.ones((args[i].shape[0],1))*i))\n",
    "  # scramble the X and Y together (unnessesary bc we are using train_test_split to scramble the data)\n",
    "  # p = np.random.permutation(X.shape[0])\n",
    "  # X = X[p]\n",
    "  # Y = Y[p]\n",
    "  print(f\"Total X shape: {X.shape}, Total Y shape: {Y.shape}\")\n",
    "  return X, Y\n",
    "  \n",
    "  \n",
    "  "
   ]
  },
  {
   "cell_type": "code",
   "execution_count": 31,
   "metadata": {},
   "outputs": [
    {
     "name": "stdout",
     "output_type": "stream",
     "text": [
      "Total X shape: (253303, 784), Total Y shape: (253303, 1)\n",
      "X_train shape: (219081, 784), y_train shape: (219081, 1)\n",
      "X_val shape: (16490, 784), y_val shape: (16490, 1)\n",
      "X_test shape: (17732, 784), y_test shape: (17732, 1)\n"
     ]
    }
   ],
   "source": [
    "# Split the dataset\n",
    "X, y = combine_data_sets(sheep, giraffe)\n",
    "\n",
    "# print 10 samples with their y value\n",
    "# for i in range(10):\n",
    "#     plt.imshow(X[i].reshape((28,28)), cmap=plt.get_cmap('gray'))\n",
    "#     plt.show()\n",
    "#     print(Y[i])\n",
    "\n",
    "# Split the dataset\n",
    "X_train_val, X_test, y_train_val, y_test = train_test_split(X, y, test_size = 0.07, random_state=10, shuffle=True)\n",
    "X_train, X_val, y_train, y_val = train_test_split(X_train_val, y_train_val, test_size = 0.07, random_state=10, shuffle=True)\n",
    "\n",
    "print(f\"X_train shape: {X_train.shape}, y_train shape: {y_train.shape}\")\n",
    "print(f\"X_val shape: {X_val.shape}, y_val shape: {y_val.shape}\")\n",
    "print(f\"X_test shape: {X_test.shape}, y_test shape: {y_test.shape}\")"
   ]
  }
 ],
 "metadata": {
  "kernelspec": {
   "display_name": "venv",
   "language": "python",
   "name": "python3"
  },
  "language_info": {
   "codemirror_mode": {
    "name": "ipython",
    "version": 3
   },
   "file_extension": ".py",
   "mimetype": "text/x-python",
   "name": "python",
   "nbconvert_exporter": "python",
   "pygments_lexer": "ipython3",
   "version": "3.11.2"
  },
  "orig_nbformat": 4
 },
 "nbformat": 4,
 "nbformat_minor": 2
}
